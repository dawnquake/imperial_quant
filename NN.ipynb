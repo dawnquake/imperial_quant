{
 "cells": [
  {
   "cell_type": "code",
   "execution_count": 8,
   "metadata": {},
   "outputs": [],
   "source": [
    "import os\n",
    "import pandas as pd\n",
    "import matplotlib.pyplot as plt\n",
    "import matplotlib.style as mplstyle\n",
    "\n",
    "import plotly.graph_objects as go\n",
    "\n",
    "import pandas as pd\n",
    "from datetime import datetime\n",
    "\n",
    "mplstyle.use('fast')\n",
    "\n",
    "AAPLdf = pd.read_csv(os.path.join(\"stocks_past_data\", \"AAPL.csv\"))\n",
    "AAPLdf.drop(columns=[\"volume\", \"average\", \"barCount\"], inplace=True)"
   ]
  },
  {
   "cell_type": "code",
   "execution_count": 14,
   "metadata": {},
   "outputs": [
    {
     "name": "stdout",
     "output_type": "stream",
     "text": [
      "                                Open       High        Low      Close  \\\n",
      "Date                                                                    \n",
      "2015-11-02 00:00:00-05:00  27.177659  27.303648  26.909932  27.263151   \n",
      "2015-11-03 00:00:00-05:00  27.175409  27.782856  27.155160  27.575874   \n",
      "2015-11-04 00:00:00-05:00  27.701859  27.857096  27.362140  27.447632   \n",
      "\n",
      "                              Volume  Dividends  Stock Splits  \n",
      "Date                                                           \n",
      "2015-11-02 00:00:00-05:00  128813200        0.0           0.0  \n",
      "2015-11-03 00:00:00-05:00  182076000        0.0           0.0  \n",
      "2015-11-04 00:00:00-05:00  179544400        0.0           0.0  \n"
     ]
    }
   ],
   "source": [
    "import yfinance as yf\n",
    "\n",
    "# Define the ticker symbol\n",
    "ticker = \"AAPL\"\n",
    "\n",
    "# Set the date range\n",
    "start_date = \"2015-11-01\"\n",
    "end_date = \"2015-11-05\"\n",
    "\n",
    "# Fetch historical data\n",
    "data = yf.Ticker(ticker).history(start=start_date, end=end_date)\n",
    "\n",
    "# Display the data\n",
    "print(data)\n"
   ]
  },
  {
   "cell_type": "code",
   "execution_count": 35,
   "metadata": {},
   "outputs": [],
   "source": [
    "AAPLdf2015 = AAPLdf[(AAPLdf[\"date\"] > \"2016-02-27\")&(AAPLdf[\"date\"] < \"2016-02-30\") \n",
    "                   ]"
   ]
  },
  {
   "cell_type": "code",
   "execution_count": 31,
   "metadata": {},
   "outputs": [
    {
     "data": {
      "text/html": [
       "<div>\n",
       "<style scoped>\n",
       "    .dataframe tbody tr th:only-of-type {\n",
       "        vertical-align: middle;\n",
       "    }\n",
       "\n",
       "    .dataframe tbody tr th {\n",
       "        vertical-align: top;\n",
       "    }\n",
       "\n",
       "    .dataframe thead th {\n",
       "        text-align: right;\n",
       "    }\n",
       "</style>\n",
       "<table border=\"1\" class=\"dataframe\">\n",
       "  <thead>\n",
       "    <tr style=\"text-align: right;\">\n",
       "      <th></th>\n",
       "      <th>date</th>\n",
       "      <th>open</th>\n",
       "      <th>high</th>\n",
       "      <th>low</th>\n",
       "      <th>close</th>\n",
       "    </tr>\n",
       "  </thead>\n",
       "  <tbody>\n",
       "    <tr>\n",
       "      <th>739548</th>\n",
       "      <td>2016-02-26 11:06:00-05:00</td>\n",
       "      <td>24.49</td>\n",
       "      <td>24.51</td>\n",
       "      <td>24.47</td>\n",
       "      <td>24.5</td>\n",
       "    </tr>\n",
       "  </tbody>\n",
       "</table>\n",
       "</div>"
      ],
      "text/plain": [
       "                             date   open   high    low  close\n",
       "739548  2016-02-26 11:06:00-05:00  24.49  24.51  24.47   24.5"
      ]
     },
     "execution_count": 31,
     "metadata": {},
     "output_type": "execute_result"
    }
   ],
   "source": [
    "AAPLdf2015[AAPLdf2015[\"high\"] == AAPLdf2015.high.max()]"
   ]
  },
  {
   "cell_type": "code",
   "execution_count": 36,
   "metadata": {},
   "outputs": [
    {
     "data": {
      "application/vnd.plotly.v1+json": {
       "config": {
        "plotlyServerURL": "https://plot.ly"
       },
       "data": [
        {
         "close": {
          "bdata": "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",
          "dtype": "f8"
         },
         "high": {
          "bdata": "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",
          "dtype": "f8"
         },
         "low": {
          "bdata": "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",
          "dtype": "f8"
         },
         "open": {
          "bdata": "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",
          "dtype": "f8"
         },
         "type": "candlestick",
         "x": [
          "2016-02-29 19:57:00-05:00",
          "2016-02-29 19:54:00-05:00",
          "2016-02-29 19:51:00-05:00",
          "2016-02-29 19:48:00-05:00",
          "2016-02-29 19:45:00-05:00",
          "2016-02-29 19:42:00-05:00",
          "2016-02-29 19:39:00-05:00",
          "2016-02-29 19:36:00-05:00",
          "2016-02-29 19:33:00-05:00",
          "2016-02-29 19:30:00-05:00",
          "2016-02-29 19:27:00-05:00",
          "2016-02-29 19:24:00-05:00",
          "2016-02-29 19:21:00-05:00",
          "2016-02-29 19:18:00-05:00",
          "2016-02-29 19:15:00-05:00",
          "2016-02-29 19:12:00-05:00",
          "2016-02-29 19:09:00-05:00",
          "2016-02-29 19:06:00-05:00",
          "2016-02-29 19:03:00-05:00",
          "2016-02-29 19:00:00-05:00",
          "2016-02-29 18:57:00-05:00",
          "2016-02-29 18:54:00-05:00",
          "2016-02-29 18:51:00-05:00",
          "2016-02-29 18:48:00-05:00",
          "2016-02-29 18:45:00-05:00",
          "2016-02-29 18:42:00-05:00",
          "2016-02-29 18:39:00-05:00",
          "2016-02-29 18:36:00-05:00",
          "2016-02-29 18:33:00-05:00",
          "2016-02-29 18:30:00-05:00",
          "2016-02-29 18:27:00-05:00",
          "2016-02-29 18:24:00-05:00",
          "2016-02-29 18:21:00-05:00",
          "2016-02-29 18:18:00-05:00",
          "2016-02-29 18:15:00-05:00",
          "2016-02-29 18:12:00-05:00",
          "2016-02-29 18:09:00-05:00",
          "2016-02-29 18:06:00-05:00",
          "2016-02-29 18:03:00-05:00",
          "2016-02-29 18:00:00-05:00",
          "2016-02-29 17:57:00-05:00",
          "2016-02-29 17:54:00-05:00",
          "2016-02-29 17:51:00-05:00",
          "2016-02-29 17:48:00-05:00",
          "2016-02-29 17:45:00-05:00",
          "2016-02-29 17:42:00-05:00",
          "2016-02-29 17:39:00-05:00",
          "2016-02-29 17:36:00-05:00",
          "2016-02-29 17:33:00-05:00",
          "2016-02-29 17:30:00-05:00",
          "2016-02-29 17:27:00-05:00",
          "2016-02-29 17:24:00-05:00",
          "2016-02-29 17:21:00-05:00",
          "2016-02-29 17:18:00-05:00",
          "2016-02-29 17:15:00-05:00",
          "2016-02-29 17:12:00-05:00",
          "2016-02-29 17:09:00-05:00",
          "2016-02-29 17:06:00-05:00",
          "2016-02-29 17:03:00-05:00",
          "2016-02-29 17:00:00-05:00",
          "2016-02-29 16:57:00-05:00",
          "2016-02-29 16:54:00-05:00",
          "2016-02-29 16:51:00-05:00",
          "2016-02-29 16:48:00-05:00",
          "2016-02-29 16:45:00-05:00",
          "2016-02-29 16:42:00-05:00",
          "2016-02-29 16:39:00-05:00",
          "2016-02-29 16:36:00-05:00",
          "2016-02-29 16:33:00-05:00",
          "2016-02-29 16:30:00-05:00",
          "2016-02-29 16:27:00-05:00",
          "2016-02-29 16:24:00-05:00",
          "2016-02-29 16:21:00-05:00",
          "2016-02-29 16:18:00-05:00",
          "2016-02-29 16:15:00-05:00",
          "2016-02-29 16:12:00-05:00",
          "2016-02-29 16:09:00-05:00",
          "2016-02-29 16:06:00-05:00",
          "2016-02-29 16:03:00-05:00",
          "2016-02-29 16:00:00-05:00",
          "2016-02-29 15:57:00-05:00",
          "2016-02-29 15:54:00-05:00",
          "2016-02-29 15:51:00-05:00",
          "2016-02-29 15:48:00-05:00",
          "2016-02-29 15:45:00-05:00",
          "2016-02-29 15:42:00-05:00",
          "2016-02-29 15:39:00-05:00",
          "2016-02-29 15:36:00-05:00",
          "2016-02-29 15:33:00-05:00",
          "2016-02-29 15:30:00-05:00",
          "2016-02-29 15:27:00-05:00",
          "2016-02-29 15:24:00-05:00",
          "2016-02-29 15:21:00-05:00",
          "2016-02-29 15:18:00-05:00",
          "2016-02-29 15:15:00-05:00",
          "2016-02-29 15:12:00-05:00",
          "2016-02-29 15:09:00-05:00",
          "2016-02-29 15:06:00-05:00",
          "2016-02-29 15:03:00-05:00",
          "2016-02-29 15:00:00-05:00",
          "2016-02-29 14:57:00-05:00",
          "2016-02-29 14:54:00-05:00",
          "2016-02-29 14:51:00-05:00",
          "2016-02-29 14:48:00-05:00",
          "2016-02-29 14:45:00-05:00",
          "2016-02-29 14:42:00-05:00",
          "2016-02-29 14:39:00-05:00",
          "2016-02-29 14:36:00-05:00",
          "2016-02-29 14:33:00-05:00",
          "2016-02-29 14:30:00-05:00",
          "2016-02-29 14:27:00-05:00",
          "2016-02-29 14:24:00-05:00",
          "2016-02-29 14:21:00-05:00",
          "2016-02-29 14:18:00-05:00",
          "2016-02-29 14:15:00-05:00",
          "2016-02-29 14:12:00-05:00",
          "2016-02-29 14:09:00-05:00",
          "2016-02-29 14:06:00-05:00",
          "2016-02-29 14:03:00-05:00",
          "2016-02-29 14:00:00-05:00",
          "2016-02-29 13:57:00-05:00",
          "2016-02-29 13:54:00-05:00",
          "2016-02-29 13:51:00-05:00",
          "2016-02-29 13:48:00-05:00",
          "2016-02-29 13:45:00-05:00",
          "2016-02-29 13:42:00-05:00",
          "2016-02-29 13:39:00-05:00",
          "2016-02-29 13:36:00-05:00",
          "2016-02-29 13:33:00-05:00",
          "2016-02-29 13:30:00-05:00",
          "2016-02-29 13:27:00-05:00",
          "2016-02-29 13:24:00-05:00",
          "2016-02-29 13:21:00-05:00",
          "2016-02-29 13:18:00-05:00",
          "2016-02-29 13:15:00-05:00",
          "2016-02-29 13:12:00-05:00",
          "2016-02-29 13:09:00-05:00",
          "2016-02-29 13:06:00-05:00",
          "2016-02-29 13:03:00-05:00",
          "2016-02-29 13:00:00-05:00",
          "2016-02-29 12:57:00-05:00",
          "2016-02-29 12:54:00-05:00",
          "2016-02-29 12:51:00-05:00",
          "2016-02-29 12:48:00-05:00",
          "2016-02-29 12:45:00-05:00",
          "2016-02-29 12:42:00-05:00",
          "2016-02-29 12:39:00-05:00",
          "2016-02-29 12:36:00-05:00",
          "2016-02-29 12:33:00-05:00",
          "2016-02-29 12:30:00-05:00",
          "2016-02-29 12:27:00-05:00",
          "2016-02-29 12:24:00-05:00",
          "2016-02-29 12:21:00-05:00",
          "2016-02-29 12:18:00-05:00",
          "2016-02-29 12:15:00-05:00",
          "2016-02-29 12:12:00-05:00",
          "2016-02-29 12:09:00-05:00",
          "2016-02-29 12:06:00-05:00",
          "2016-02-29 12:03:00-05:00",
          "2016-02-29 12:00:00-05:00",
          "2016-02-29 11:57:00-05:00",
          "2016-02-29 11:54:00-05:00",
          "2016-02-29 11:51:00-05:00",
          "2016-02-29 11:48:00-05:00",
          "2016-02-29 11:45:00-05:00",
          "2016-02-29 11:42:00-05:00",
          "2016-02-29 11:39:00-05:00",
          "2016-02-29 11:36:00-05:00",
          "2016-02-29 11:33:00-05:00",
          "2016-02-29 11:30:00-05:00",
          "2016-02-29 11:27:00-05:00",
          "2016-02-29 11:24:00-05:00",
          "2016-02-29 11:21:00-05:00",
          "2016-02-29 11:18:00-05:00",
          "2016-02-29 11:15:00-05:00",
          "2016-02-29 11:12:00-05:00",
          "2016-02-29 11:09:00-05:00",
          "2016-02-29 11:06:00-05:00",
          "2016-02-29 11:03:00-05:00",
          "2016-02-29 11:00:00-05:00",
          "2016-02-29 10:57:00-05:00",
          "2016-02-29 10:54:00-05:00",
          "2016-02-29 10:51:00-05:00",
          "2016-02-29 10:48:00-05:00",
          "2016-02-29 10:45:00-05:00",
          "2016-02-29 10:42:00-05:00",
          "2016-02-29 10:39:00-05:00",
          "2016-02-29 10:36:00-05:00",
          "2016-02-29 10:33:00-05:00",
          "2016-02-29 10:30:00-05:00",
          "2016-02-29 10:27:00-05:00",
          "2016-02-29 10:24:00-05:00",
          "2016-02-29 10:21:00-05:00",
          "2016-02-29 10:18:00-05:00",
          "2016-02-29 10:15:00-05:00",
          "2016-02-29 10:12:00-05:00",
          "2016-02-29 10:09:00-05:00",
          "2016-02-29 10:06:00-05:00",
          "2016-02-29 10:03:00-05:00",
          "2016-02-29 10:00:00-05:00",
          "2016-02-29 09:57:00-05:00",
          "2016-02-29 09:54:00-05:00",
          "2016-02-29 09:51:00-05:00",
          "2016-02-29 09:48:00-05:00",
          "2016-02-29 09:45:00-05:00",
          "2016-02-29 09:42:00-05:00",
          "2016-02-29 09:39:00-05:00",
          "2016-02-29 09:36:00-05:00",
          "2016-02-29 09:33:00-05:00",
          "2016-02-29 09:30:00-05:00",
          "2016-02-29 09:27:00-05:00",
          "2016-02-29 09:24:00-05:00",
          "2016-02-29 09:21:00-05:00",
          "2016-02-29 09:18:00-05:00",
          "2016-02-29 09:15:00-05:00",
          "2016-02-29 09:12:00-05:00",
          "2016-02-29 09:09:00-05:00",
          "2016-02-29 09:06:00-05:00",
          "2016-02-29 09:03:00-05:00",
          "2016-02-29 09:00:00-05:00",
          "2016-02-29 08:57:00-05:00",
          "2016-02-29 08:54:00-05:00",
          "2016-02-29 08:51:00-05:00",
          "2016-02-29 08:48:00-05:00",
          "2016-02-29 08:45:00-05:00",
          "2016-02-29 08:42:00-05:00",
          "2016-02-29 08:39:00-05:00",
          "2016-02-29 08:36:00-05:00",
          "2016-02-29 08:33:00-05:00",
          "2016-02-29 08:30:00-05:00",
          "2016-02-29 08:27:00-05:00",
          "2016-02-29 08:24:00-05:00",
          "2016-02-29 08:21:00-05:00",
          "2016-02-29 08:18:00-05:00",
          "2016-02-29 08:15:00-05:00",
          "2016-02-29 08:12:00-05:00",
          "2016-02-29 08:09:00-05:00",
          "2016-02-29 08:06:00-05:00",
          "2016-02-29 08:03:00-05:00",
          "2016-02-29 08:00:00-05:00",
          "2016-02-29 07:57:00-05:00",
          "2016-02-29 07:54:00-05:00",
          "2016-02-29 07:51:00-05:00",
          "2016-02-29 07:48:00-05:00",
          "2016-02-29 07:45:00-05:00",
          "2016-02-29 07:42:00-05:00",
          "2016-02-29 07:39:00-05:00",
          "2016-02-29 07:36:00-05:00",
          "2016-02-29 07:33:00-05:00",
          "2016-02-29 07:30:00-05:00",
          "2016-02-29 07:27:00-05:00",
          "2016-02-29 07:24:00-05:00",
          "2016-02-29 07:21:00-05:00",
          "2016-02-29 07:18:00-05:00",
          "2016-02-29 07:15:00-05:00",
          "2016-02-29 07:12:00-05:00",
          "2016-02-29 07:09:00-05:00",
          "2016-02-29 07:06:00-05:00",
          "2016-02-29 07:03:00-05:00",
          "2016-02-29 07:00:00-05:00",
          "2016-02-29 06:57:00-05:00",
          "2016-02-29 06:54:00-05:00",
          "2016-02-29 06:51:00-05:00",
          "2016-02-29 06:48:00-05:00",
          "2016-02-29 06:45:00-05:00",
          "2016-02-29 06:42:00-05:00",
          "2016-02-29 06:39:00-05:00",
          "2016-02-29 06:36:00-05:00",
          "2016-02-29 06:33:00-05:00",
          "2016-02-29 06:30:00-05:00",
          "2016-02-29 06:27:00-05:00",
          "2016-02-29 06:24:00-05:00",
          "2016-02-29 06:21:00-05:00",
          "2016-02-29 06:18:00-05:00",
          "2016-02-29 06:15:00-05:00",
          "2016-02-29 06:12:00-05:00",
          "2016-02-29 06:09:00-05:00",
          "2016-02-29 06:06:00-05:00",
          "2016-02-29 06:03:00-05:00",
          "2016-02-29 06:00:00-05:00",
          "2016-02-29 05:57:00-05:00",
          "2016-02-29 05:54:00-05:00",
          "2016-02-29 05:51:00-05:00",
          "2016-02-29 05:48:00-05:00",
          "2016-02-29 05:45:00-05:00",
          "2016-02-29 05:42:00-05:00",
          "2016-02-29 05:39:00-05:00",
          "2016-02-29 05:36:00-05:00",
          "2016-02-29 05:33:00-05:00",
          "2016-02-29 05:30:00-05:00",
          "2016-02-29 05:27:00-05:00",
          "2016-02-29 05:24:00-05:00",
          "2016-02-29 05:21:00-05:00",
          "2016-02-29 05:18:00-05:00",
          "2016-02-29 05:15:00-05:00",
          "2016-02-29 05:12:00-05:00",
          "2016-02-29 05:09:00-05:00",
          "2016-02-29 05:06:00-05:00",
          "2016-02-29 05:03:00-05:00",
          "2016-02-29 05:00:00-05:00",
          "2016-02-29 04:57:00-05:00",
          "2016-02-29 04:54:00-05:00",
          "2016-02-29 04:51:00-05:00",
          "2016-02-29 04:48:00-05:00",
          "2016-02-29 04:45:00-05:00",
          "2016-02-29 04:42:00-05:00",
          "2016-02-29 04:39:00-05:00",
          "2016-02-29 04:36:00-05:00",
          "2016-02-29 04:33:00-05:00",
          "2016-02-29 04:30:00-05:00",
          "2016-02-29 04:27:00-05:00",
          "2016-02-29 04:24:00-05:00",
          "2016-02-29 04:21:00-05:00",
          "2016-02-29 04:18:00-05:00",
          "2016-02-29 04:15:00-05:00",
          "2016-02-29 04:12:00-05:00",
          "2016-02-29 04:09:00-05:00",
          "2016-02-29 04:06:00-05:00",
          "2016-02-29 04:03:00-05:00",
          "2016-02-29 04:00:00-05:00"
         ]
        }
       ],
       "layout": {
        "autosize": true,
        "template": {
         "data": {
          "bar": [
           {
            "error_x": {
             "color": "#2a3f5f"
            },
            "error_y": {
             "color": "#2a3f5f"
            },
            "marker": {
             "line": {
              "color": "#E5ECF6",
              "width": 0.5
             },
             "pattern": {
              "fillmode": "overlay",
              "size": 10,
              "solidity": 0.2
             }
            },
            "type": "bar"
           }
          ],
          "barpolar": [
           {
            "marker": {
             "line": {
              "color": "#E5ECF6",
              "width": 0.5
             },
             "pattern": {
              "fillmode": "overlay",
              "size": 10,
              "solidity": 0.2
             }
            },
            "type": "barpolar"
           }
          ],
          "carpet": [
           {
            "aaxis": {
             "endlinecolor": "#2a3f5f",
             "gridcolor": "white",
             "linecolor": "white",
             "minorgridcolor": "white",
             "startlinecolor": "#2a3f5f"
            },
            "baxis": {
             "endlinecolor": "#2a3f5f",
             "gridcolor": "white",
             "linecolor": "white",
             "minorgridcolor": "white",
             "startlinecolor": "#2a3f5f"
            },
            "type": "carpet"
           }
          ],
          "choropleth": [
           {
            "colorbar": {
             "outlinewidth": 0,
             "ticks": ""
            },
            "type": "choropleth"
           }
          ],
          "contour": [
           {
            "colorbar": {
             "outlinewidth": 0,
             "ticks": ""
            },
            "colorscale": [
             [
              0,
              "#0d0887"
             ],
             [
              0.1111111111111111,
              "#46039f"
             ],
             [
              0.2222222222222222,
              "#7201a8"
             ],
             [
              0.3333333333333333,
              "#9c179e"
             ],
             [
              0.4444444444444444,
              "#bd3786"
             ],
             [
              0.5555555555555556,
              "#d8576b"
             ],
             [
              0.6666666666666666,
              "#ed7953"
             ],
             [
              0.7777777777777778,
              "#fb9f3a"
             ],
             [
              0.8888888888888888,
              "#fdca26"
             ],
             [
              1,
              "#f0f921"
             ]
            ],
            "type": "contour"
           }
          ],
          "contourcarpet": [
           {
            "colorbar": {
             "outlinewidth": 0,
             "ticks": ""
            },
            "type": "contourcarpet"
           }
          ],
          "heatmap": [
           {
            "colorbar": {
             "outlinewidth": 0,
             "ticks": ""
            },
            "colorscale": [
             [
              0,
              "#0d0887"
             ],
             [
              0.1111111111111111,
              "#46039f"
             ],
             [
              0.2222222222222222,
              "#7201a8"
             ],
             [
              0.3333333333333333,
              "#9c179e"
             ],
             [
              0.4444444444444444,
              "#bd3786"
             ],
             [
              0.5555555555555556,
              "#d8576b"
             ],
             [
              0.6666666666666666,
              "#ed7953"
             ],
             [
              0.7777777777777778,
              "#fb9f3a"
             ],
             [
              0.8888888888888888,
              "#fdca26"
             ],
             [
              1,
              "#f0f921"
             ]
            ],
            "type": "heatmap"
           }
          ],
          "histogram": [
           {
            "marker": {
             "pattern": {
              "fillmode": "overlay",
              "size": 10,
              "solidity": 0.2
             }
            },
            "type": "histogram"
           }
          ],
          "histogram2d": [
           {
            "colorbar": {
             "outlinewidth": 0,
             "ticks": ""
            },
            "colorscale": [
             [
              0,
              "#0d0887"
             ],
             [
              0.1111111111111111,
              "#46039f"
             ],
             [
              0.2222222222222222,
              "#7201a8"
             ],
             [
              0.3333333333333333,
              "#9c179e"
             ],
             [
              0.4444444444444444,
              "#bd3786"
             ],
             [
              0.5555555555555556,
              "#d8576b"
             ],
             [
              0.6666666666666666,
              "#ed7953"
             ],
             [
              0.7777777777777778,
              "#fb9f3a"
             ],
             [
              0.8888888888888888,
              "#fdca26"
             ],
             [
              1,
              "#f0f921"
             ]
            ],
            "type": "histogram2d"
           }
          ],
          "histogram2dcontour": [
           {
            "colorbar": {
             "outlinewidth": 0,
             "ticks": ""
            },
            "colorscale": [
             [
              0,
              "#0d0887"
             ],
             [
              0.1111111111111111,
              "#46039f"
             ],
             [
              0.2222222222222222,
              "#7201a8"
             ],
             [
              0.3333333333333333,
              "#9c179e"
             ],
             [
              0.4444444444444444,
              "#bd3786"
             ],
             [
              0.5555555555555556,
              "#d8576b"
             ],
             [
              0.6666666666666666,
              "#ed7953"
             ],
             [
              0.7777777777777778,
              "#fb9f3a"
             ],
             [
              0.8888888888888888,
              "#fdca26"
             ],
             [
              1,
              "#f0f921"
             ]
            ],
            "type": "histogram2dcontour"
           }
          ],
          "mesh3d": [
           {
            "colorbar": {
             "outlinewidth": 0,
             "ticks": ""
            },
            "type": "mesh3d"
           }
          ],
          "parcoords": [
           {
            "line": {
             "colorbar": {
              "outlinewidth": 0,
              "ticks": ""
             }
            },
            "type": "parcoords"
           }
          ],
          "pie": [
           {
            "automargin": true,
            "type": "pie"
           }
          ],
          "scatter": [
           {
            "fillpattern": {
             "fillmode": "overlay",
             "size": 10,
             "solidity": 0.2
            },
            "type": "scatter"
           }
          ],
          "scatter3d": [
           {
            "line": {
             "colorbar": {
              "outlinewidth": 0,
              "ticks": ""
             }
            },
            "marker": {
             "colorbar": {
              "outlinewidth": 0,
              "ticks": ""
             }
            },
            "type": "scatter3d"
           }
          ],
          "scattercarpet": [
           {
            "marker": {
             "colorbar": {
              "outlinewidth": 0,
              "ticks": ""
             }
            },
            "type": "scattercarpet"
           }
          ],
          "scattergeo": [
           {
            "marker": {
             "colorbar": {
              "outlinewidth": 0,
              "ticks": ""
             }
            },
            "type": "scattergeo"
           }
          ],
          "scattergl": [
           {
            "marker": {
             "colorbar": {
              "outlinewidth": 0,
              "ticks": ""
             }
            },
            "type": "scattergl"
           }
          ],
          "scattermap": [
           {
            "marker": {
             "colorbar": {
              "outlinewidth": 0,
              "ticks": ""
             }
            },
            "type": "scattermap"
           }
          ],
          "scattermapbox": [
           {
            "marker": {
             "colorbar": {
              "outlinewidth": 0,
              "ticks": ""
             }
            },
            "type": "scattermapbox"
           }
          ],
          "scatterpolar": [
           {
            "marker": {
             "colorbar": {
              "outlinewidth": 0,
              "ticks": ""
             }
            },
            "type": "scatterpolar"
           }
          ],
          "scatterpolargl": [
           {
            "marker": {
             "colorbar": {
              "outlinewidth": 0,
              "ticks": ""
             }
            },
            "type": "scatterpolargl"
           }
          ],
          "scatterternary": [
           {
            "marker": {
             "colorbar": {
              "outlinewidth": 0,
              "ticks": ""
             }
            },
            "type": "scatterternary"
           }
          ],
          "surface": [
           {
            "colorbar": {
             "outlinewidth": 0,
             "ticks": ""
            },
            "colorscale": [
             [
              0,
              "#0d0887"
             ],
             [
              0.1111111111111111,
              "#46039f"
             ],
             [
              0.2222222222222222,
              "#7201a8"
             ],
             [
              0.3333333333333333,
              "#9c179e"
             ],
             [
              0.4444444444444444,
              "#bd3786"
             ],
             [
              0.5555555555555556,
              "#d8576b"
             ],
             [
              0.6666666666666666,
              "#ed7953"
             ],
             [
              0.7777777777777778,
              "#fb9f3a"
             ],
             [
              0.8888888888888888,
              "#fdca26"
             ],
             [
              1,
              "#f0f921"
             ]
            ],
            "type": "surface"
           }
          ],
          "table": [
           {
            "cells": {
             "fill": {
              "color": "#EBF0F8"
             },
             "line": {
              "color": "white"
             }
            },
            "header": {
             "fill": {
              "color": "#C8D4E3"
             },
             "line": {
              "color": "white"
             }
            },
            "type": "table"
           }
          ]
         },
         "layout": {
          "annotationdefaults": {
           "arrowcolor": "#2a3f5f",
           "arrowhead": 0,
           "arrowwidth": 1
          },
          "autotypenumbers": "strict",
          "coloraxis": {
           "colorbar": {
            "outlinewidth": 0,
            "ticks": ""
           }
          },
          "colorscale": {
           "diverging": [
            [
             0,
             "#8e0152"
            ],
            [
             0.1,
             "#c51b7d"
            ],
            [
             0.2,
             "#de77ae"
            ],
            [
             0.3,
             "#f1b6da"
            ],
            [
             0.4,
             "#fde0ef"
            ],
            [
             0.5,
             "#f7f7f7"
            ],
            [
             0.6,
             "#e6f5d0"
            ],
            [
             0.7,
             "#b8e186"
            ],
            [
             0.8,
             "#7fbc41"
            ],
            [
             0.9,
             "#4d9221"
            ],
            [
             1,
             "#276419"
            ]
           ],
           "sequential": [
            [
             0,
             "#0d0887"
            ],
            [
             0.1111111111111111,
             "#46039f"
            ],
            [
             0.2222222222222222,
             "#7201a8"
            ],
            [
             0.3333333333333333,
             "#9c179e"
            ],
            [
             0.4444444444444444,
             "#bd3786"
            ],
            [
             0.5555555555555556,
             "#d8576b"
            ],
            [
             0.6666666666666666,
             "#ed7953"
            ],
            [
             0.7777777777777778,
             "#fb9f3a"
            ],
            [
             0.8888888888888888,
             "#fdca26"
            ],
            [
             1,
             "#f0f921"
            ]
           ],
           "sequentialminus": [
            [
             0,
             "#0d0887"
            ],
            [
             0.1111111111111111,
             "#46039f"
            ],
            [
             0.2222222222222222,
             "#7201a8"
            ],
            [
             0.3333333333333333,
             "#9c179e"
            ],
            [
             0.4444444444444444,
             "#bd3786"
            ],
            [
             0.5555555555555556,
             "#d8576b"
            ],
            [
             0.6666666666666666,
             "#ed7953"
            ],
            [
             0.7777777777777778,
             "#fb9f3a"
            ],
            [
             0.8888888888888888,
             "#fdca26"
            ],
            [
             1,
             "#f0f921"
            ]
           ]
          },
          "colorway": [
           "#636efa",
           "#EF553B",
           "#00cc96",
           "#ab63fa",
           "#FFA15A",
           "#19d3f3",
           "#FF6692",
           "#B6E880",
           "#FF97FF",
           "#FECB52"
          ],
          "font": {
           "color": "#2a3f5f"
          },
          "geo": {
           "bgcolor": "white",
           "lakecolor": "white",
           "landcolor": "#E5ECF6",
           "showlakes": true,
           "showland": true,
           "subunitcolor": "white"
          },
          "hoverlabel": {
           "align": "left"
          },
          "hovermode": "closest",
          "mapbox": {
           "style": "light"
          },
          "paper_bgcolor": "white",
          "plot_bgcolor": "#E5ECF6",
          "polar": {
           "angularaxis": {
            "gridcolor": "white",
            "linecolor": "white",
            "ticks": ""
           },
           "bgcolor": "#E5ECF6",
           "radialaxis": {
            "gridcolor": "white",
            "linecolor": "white",
            "ticks": ""
           }
          },
          "scene": {
           "xaxis": {
            "backgroundcolor": "#E5ECF6",
            "gridcolor": "white",
            "gridwidth": 2,
            "linecolor": "white",
            "showbackground": true,
            "ticks": "",
            "zerolinecolor": "white"
           },
           "yaxis": {
            "backgroundcolor": "#E5ECF6",
            "gridcolor": "white",
            "gridwidth": 2,
            "linecolor": "white",
            "showbackground": true,
            "ticks": "",
            "zerolinecolor": "white"
           },
           "zaxis": {
            "backgroundcolor": "#E5ECF6",
            "gridcolor": "white",
            "gridwidth": 2,
            "linecolor": "white",
            "showbackground": true,
            "ticks": "",
            "zerolinecolor": "white"
           }
          },
          "shapedefaults": {
           "line": {
            "color": "#2a3f5f"
           }
          },
          "ternary": {
           "aaxis": {
            "gridcolor": "white",
            "linecolor": "white",
            "ticks": ""
           },
           "baxis": {
            "gridcolor": "white",
            "linecolor": "white",
            "ticks": ""
           },
           "bgcolor": "#E5ECF6",
           "caxis": {
            "gridcolor": "white",
            "linecolor": "white",
            "ticks": ""
           }
          },
          "title": {
           "x": 0.05
          },
          "xaxis": {
           "automargin": true,
           "gridcolor": "white",
           "linecolor": "white",
           "ticks": "",
           "title": {
            "standoff": 15
           },
           "zerolinecolor": "white",
           "zerolinewidth": 2
          },
          "yaxis": {
           "automargin": true,
           "gridcolor": "white",
           "linecolor": "white",
           "ticks": "",
           "title": {
            "standoff": 15
           },
           "zerolinecolor": "white",
           "zerolinewidth": 2
          }
         }
        },
        "xaxis": {
         "autorange": true,
         "range": [
          946684800000,
          978307200000
         ],
         "type": "date"
        },
        "yaxis": {
         "autorange": true,
         "range": [
          -1,
          4
         ]
        }
       }
      },
      "image/png": "[encoded data removed]"
     },
     "metadata": {},
     "output_type": "display_data"
    }
   ],
   "source": [
    "df = AAPLdf2015\n",
    "fig = go.Figure(data=[go.Candlestick(x=df['date'],\n",
    "                open=df['open'],\n",
    "                high=df['high'],\n",
    "                low=df['low'],\n",
    "                close=df['close'])])\n",
    "\n",
    "fig.show()"
   ]
  }
 ],
 "metadata": {
  "kernelspec": {
   "display_name": "Python 3 (ipykernel)",
   "language": "python",
   "name": "python3"
  },
  "language_info": {
   "codemirror_mode": {
    "name": "ipython",
    "version": 3
   },
   "file_extension": ".py",
   "mimetype": "text/x-python",
   "name": "python",
   "nbconvert_exporter": "python",
   "pygments_lexer": "ipython3",
   "version": "3.12.7"
  }
 },
 "nbformat": 4,
 "nbformat_minor": 4
}
